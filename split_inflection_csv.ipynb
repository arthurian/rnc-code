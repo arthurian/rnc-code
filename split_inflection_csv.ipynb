{
 "cells": [
  {
   "cell_type": "code",
   "execution_count": 11,
   "metadata": {},
   "outputs": [],
   "source": [
    "import csv\n",
    "import pandas as pd"
   ]
  },
  {
   "cell_type": "code",
   "execution_count": 22,
   "metadata": {},
   "outputs": [
    {
     "name": "stdout",
     "output_type": "stream",
     "text": [
      "csv 0 done!\n",
      "csv 1 done!\n",
      "csv 2 done!\n"
     ]
    }
   ],
   "source": [
    "lst = dict()\n",
    "lst[0] = []\n",
    "lst[1] = []\n",
    "lst[2] = []\n",
    "\n",
    "with open('inflection.csv','r') as infile: \n",
    "    reader = csv.reader(infile, delimiter=\"\\t\")\n",
    "    for i, row in enumerate(reader):\n",
    "        if i < 221552:\n",
    "            lst[0].append(row)\n",
    "        elif i >= 221552 and i < 443104:\n",
    "            lst[1].append(row)\n",
    "        else:\n",
    "            lst[2].append(row)\n",
    "\n",
    "col_header = ['id',\n",
    " 'lemma_id',\n",
    " 'form',\n",
    " 'stressed',\n",
    " 'type',\n",
    " 'frequency',\n",
    " 'sharoff_freq',\n",
    " 'sharoff_rank']\n",
    "\n",
    "for index in [0,1,2]:\n",
    "    df = pd.DataFrame(lst[index]) \n",
    "    df.to_csv(f'inflection_split_{index}.csv', index=False, \n",
    "              header=col_header, sep='\\t')\n",
    "    print('csv', index, 'done!')"
   ]
  },
  {
   "cell_type": "code",
   "execution_count": 21,
   "metadata": {},
   "outputs": [
    {
     "data": {
      "text/plain": [
       "['id',\n",
       " 'lemma_id',\n",
       " 'form',\n",
       " 'stressed',\n",
       " 'type',\n",
       " 'frequency',\n",
       " 'sharoff_freq',\n",
       " 'sharoff_rank']"
      ]
     },
     "execution_count": 21,
     "metadata": {},
     "output_type": "execute_result"
    }
   ],
   "source": [
    "lst[0][0]"
   ]
  },
  {
   "cell_type": "code",
   "execution_count": null,
   "metadata": {},
   "outputs": [],
   "source": []
  }
 ],
 "metadata": {
  "kernelspec": {
   "display_name": "Python 3",
   "language": "python",
   "name": "python3"
  },
  "language_info": {
   "codemirror_mode": {
    "name": "ipython",
    "version": 3
   },
   "file_extension": ".py",
   "mimetype": "text/x-python",
   "name": "python",
   "nbconvert_exporter": "python",
   "pygments_lexer": "ipython3",
   "version": "3.7.3"
  }
 },
 "nbformat": 4,
 "nbformat_minor": 2
}

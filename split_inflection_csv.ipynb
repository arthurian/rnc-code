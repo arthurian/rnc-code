{
 "cells": [
  {
   "cell_type": "code",
   "execution_count": 1,
   "metadata": {},
   "outputs": [],
   "source": [
    "import csv"
   ]
  },
  {
   "cell_type": "code",
   "execution_count": 18,
   "metadata": {},
   "outputs": [
    {
     "name": "stdout",
     "output_type": "stream",
     "text": [
      "0 is done!\n",
      "1 is done!\n",
      "2 is done!\n"
     ]
    }
   ],
   "source": [
    "lst = dict()\n",
    "lst[0] = []\n",
    "lst[1] = []\n",
    "lst[2] = []\n",
    "\n",
    "with open('inflection.csv','r') as infile: \n",
    "    reader = csv.reader(infile, delimiter=\"\\t\")\n",
    "    for i, row in enumerate(reader):\n",
    "        if i < 221552:\n",
    "            lst[0].append(row)\n",
    "        elif i >= 221552 and i < 443104:\n",
    "            lst[1].append(row)\n",
    "        else:\n",
    "            lst[2].append(row)\n",
    "\n",
    "for index in [0,1,2]:\n",
    "    with open(f'inflection_split_{index}.csv', 'w') as outfile:\n",
    "        writer = csv.writer(outfile, delimiter=\"\\t\")\n",
    "        for row in lst[index]:\n",
    "            writer.writerow(row)\n",
    "    print(index, 'is done!')"
   ]
  },
  {
   "cell_type": "code",
   "execution_count": null,
   "metadata": {},
   "outputs": [],
   "source": []
  }
 ],
 "metadata": {
  "kernelspec": {
   "display_name": "Python 3",
   "language": "python",
   "name": "python3"
  },
  "language_info": {
   "codemirror_mode": {
    "name": "ipython",
    "version": 3
   },
   "file_extension": ".py",
   "mimetype": "text/x-python",
   "name": "python",
   "nbconvert_exporter": "python",
   "pygments_lexer": "ipython3",
   "version": "3.7.3"
  }
 },
 "nbformat": 4,
 "nbformat_minor": 2
}
